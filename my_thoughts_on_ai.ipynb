{
  "nbformat": 4,
  "nbformat_minor": 0,
  "metadata": {
    "colab": {
      "provenance": [],
      "authorship_tag": "ABX9TyMa75SdY70vrGhreI9zZiFT",
      "include_colab_link": true
    },
    "kernelspec": {
      "name": "python3",
      "display_name": "Python 3"
    },
    "language_info": {
      "name": "python"
    }
  },
  "cells": [
    {
      "cell_type": "markdown",
      "metadata": {
        "id": "view-in-github",
        "colab_type": "text"
      },
      "source": [
        "<a href=\"https://colab.research.google.com/github/javirudolph/ai-thoughts/blob/main/my_thoughts_on_ai.ipynb\" target=\"_parent\"><img src=\"https://colab.research.google.com/assets/colab-badge.svg\" alt=\"Open In Colab\"/></a>"
      ]
    },
    {
      "cell_type": "markdown",
      "source": [
        "## Things I want to do with AI\n",
        "\n",
        "* Optimize conservation decisions\n",
        "* Have fun\n",
        "* Teach others"
      ],
      "metadata": {
        "id": "m0k03iUbcKJ0"
      }
    }
  ]
}